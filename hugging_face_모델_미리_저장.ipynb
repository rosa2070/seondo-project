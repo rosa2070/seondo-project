{
  "cells": [
    {
      "cell_type": "markdown",
      "metadata": {
        "id": "p7rL1KWWU9TU"
      },
      "source": [
        "## 필요한 기능 불러오기(VScode 도커환경에서 실시)"
      ]
    },
    {
      "cell_type": "code",
      "execution_count": null,
      "metadata": {
        "id": "puSAlmftzKCH",
        "outputId": "4d80d4fe-2700-47a5-d1fb-54f4bb1c079c"
      },
      "outputs": [
        {
          "name": "stdout",
          "output_type": "stream",
          "text": [
            "Requirement already satisfied: transformers in /home/teanaps_home/anaconda3/lib/python3.7/site-packages (4.20.1)\n",
            "Requirement already satisfied: filelock in /home/teanaps_home/anaconda3/lib/python3.7/site-packages (from transformers) (3.0.12)\n",
            "Requirement already satisfied: huggingface-hub<1.0,>=0.1.0 in /home/teanaps_home/anaconda3/lib/python3.7/site-packages (from transformers) (0.8.1)\n",
            "Requirement already satisfied: numpy>=1.17 in /home/teanaps_home/anaconda3/lib/python3.7/site-packages (from transformers) (1.18.1)\n",
            "Requirement already satisfied: packaging>=20.0 in /home/teanaps_home/anaconda3/lib/python3.7/site-packages (from transformers) (21.3)\n",
            "Requirement already satisfied: pyyaml>=5.1 in /home/teanaps_home/anaconda3/lib/python3.7/site-packages (from transformers) (5.1.2)\n",
            "Requirement already satisfied: regex!=2019.12.17 in /home/teanaps_home/anaconda3/lib/python3.7/site-packages (from transformers) (2022.7.9)\n",
            "Requirement already satisfied: requests in /home/teanaps_home/anaconda3/lib/python3.7/site-packages (from transformers) (2.22.0)\n",
            "Requirement already satisfied: tokenizers!=0.11.3,<0.13,>=0.11.1 in /home/teanaps_home/anaconda3/lib/python3.7/site-packages (from transformers) (0.12.1)\n",
            "Requirement already satisfied: tqdm>=4.27 in /home/teanaps_home/anaconda3/lib/python3.7/site-packages (from transformers) (4.36.1)\n",
            "Requirement already satisfied: importlib-metadata in /home/teanaps_home/anaconda3/lib/python3.7/site-packages (from transformers) (0.23)\n",
            "Requirement already satisfied: typing-extensions>=3.7.4.3 in /home/teanaps_home/anaconda3/lib/python3.7/site-packages (from huggingface-hub<1.0,>=0.1.0->transformers) (4.3.0)\n",
            "Requirement already satisfied: pyparsing!=3.0.5,>=2.0.2 in /home/teanaps_home/anaconda3/lib/python3.7/site-packages (from packaging>=20.0->transformers) (2.4.2)\n",
            "Requirement already satisfied: zipp>=0.5 in /home/teanaps_home/anaconda3/lib/python3.7/site-packages (from importlib-metadata->transformers) (0.6.0)\n",
            "Requirement already satisfied: chardet<3.1.0,>=3.0.2 in /home/teanaps_home/anaconda3/lib/python3.7/site-packages (from requests->transformers) (3.0.4)\n",
            "Requirement already satisfied: idna<2.9,>=2.5 in /home/teanaps_home/anaconda3/lib/python3.7/site-packages (from requests->transformers) (2.8)\n",
            "Requirement already satisfied: urllib3!=1.25.0,!=1.25.1,<1.26,>=1.21.1 in /home/teanaps_home/anaconda3/lib/python3.7/site-packages (from requests->transformers) (1.25.11)\n",
            "Requirement already satisfied: certifi>=2017.4.17 in /home/teanaps_home/anaconda3/lib/python3.7/site-packages (from requests->transformers) (2019.9.11)\n",
            "Requirement already satisfied: more-itertools in /home/teanaps_home/anaconda3/lib/python3.7/site-packages (from zipp>=0.5->importlib-metadata->transformers) (7.2.0)\n",
            "\u001b[33mDEPRECATION: mecab-python 0.996-ko-0.9.2 has a non-standard version number. pip 23.3 will enforce this behaviour change. A possible replacement is to upgrade to a newer version of mecab-python or contact the author to suggest that they release a version with a conforming version number. Discussion can be found at https://github.com/pypa/pip/issues/12063\u001b[0m\u001b[33m\n",
            "\u001b[0m\u001b[33mWARNING: Running pip as the 'root' user can result in broken permissions and conflicting behaviour with the system package manager. It is recommended to use a virtual environment instead: https://pip.pypa.io/warnings/venv\u001b[0m\u001b[33m\n",
            "\u001b[0mNote: you may need to restart the kernel to use updated packages.\n"
          ]
        }
      ],
      "source": [
        "pip install transformers"
      ]
    },
    {
      "cell_type": "code",
      "execution_count": null,
      "metadata": {
        "colab": {
          "referenced_widgets": [
            "02f1815561a44770bbd42b4cdd9b0b7a",
            "b2e4f828d7724394be49e3a97c447e73",
            "346cce16185e45069b3871d8ab593d2f",
            "eebffbd454fc4bdeafbbb96b9fd4c2d3",
            "de092a8eeed24cdc9976ee41a3ecb9fe"
          ]
        },
        "id": "2jD_UN7KzKCI",
        "outputId": "ef01d208-a6f0-44f2-a45b-34fa5aa9dfe6"
      },
      "outputs": [
        {
          "data": {
            "application/vnd.jupyter.widget-view+json": {
              "model_id": "02f1815561a44770bbd42b4cdd9b0b7a",
              "version_major": 2,
              "version_minor": 0
            },
            "text/plain": [
              "HBox(children=(IntProgress(value=0, description='Downloading', max=302, style=ProgressStyle(description_width=…"
            ]
          },
          "metadata": {},
          "output_type": "display_data"
        },
        {
          "name": "stdout",
          "output_type": "stream",
          "text": [
            "\n"
          ]
        },
        {
          "data": {
            "application/vnd.jupyter.widget-view+json": {
              "model_id": "b2e4f828d7724394be49e3a97c447e73",
              "version_major": 2,
              "version_minor": 0
            },
            "text/plain": [
              "HBox(children=(IntProgress(value=0, description='Downloading', max=682398, style=ProgressStyle(description_wid…"
            ]
          },
          "metadata": {},
          "output_type": "display_data"
        },
        {
          "name": "stdout",
          "output_type": "stream",
          "text": [
            "\n"
          ]
        },
        {
          "data": {
            "application/vnd.jupyter.widget-view+json": {
              "model_id": "346cce16185e45069b3871d8ab593d2f",
              "version_major": 2,
              "version_minor": 0
            },
            "text/plain": [
              "HBox(children=(IntProgress(value=0, description='Downloading', max=239, style=ProgressStyle(description_width=…"
            ]
          },
          "metadata": {},
          "output_type": "display_data"
        },
        {
          "name": "stdout",
          "output_type": "stream",
          "text": [
            "\n"
          ]
        },
        {
          "data": {
            "application/vnd.jupyter.widget-view+json": {
              "model_id": "eebffbd454fc4bdeafbbb96b9fd4c2d3",
              "version_major": 2,
              "version_minor": 0
            },
            "text/plain": [
              "HBox(children=(IntProgress(value=0, description='Downloading', max=1453, style=ProgressStyle(description_width…"
            ]
          },
          "metadata": {},
          "output_type": "display_data"
        },
        {
          "name": "stderr",
          "output_type": "stream",
          "text": [
            "You passed along `num_labels=3` with an incompatible id to label map: {'0': 'NEGATIVE', '1': 'POSITIVE'}. The number of labels wil be overwritten to 2.\n"
          ]
        },
        {
          "name": "stdout",
          "output_type": "stream",
          "text": [
            "\n"
          ]
        },
        {
          "data": {
            "application/vnd.jupyter.widget-view+json": {
              "model_id": "de092a8eeed24cdc9976ee41a3ecb9fe",
              "version_major": 2,
              "version_minor": 0
            },
            "text/plain": [
              "HBox(children=(IntProgress(value=0, description='Downloading', max=495662867, style=ProgressStyle(description_…"
            ]
          },
          "metadata": {},
          "output_type": "display_data"
        },
        {
          "name": "stdout",
          "output_type": "stream",
          "text": [
            "\n"
          ]
        }
      ],
      "source": [
        "from transformers import PreTrainedTokenizerFast, BartForConditionalGeneration\n",
        "tokenizer = PreTrainedTokenizerFast.from_pretrained(\"ainize/kobart-news\")\n",
        "model = BartForConditionalGeneration.from_pretrained(\"ainize/kobart-news\")"
      ]
    },
    {
      "cell_type": "markdown",
      "metadata": {
        "id": "gCTLyvxFzKCI"
      },
      "source": [
        " # Hugging Face Transformers 라이브러리는 파이토치를 기반으로 구축"
      ]
    },
    {
      "cell_type": "markdown",
      "metadata": {
        "id": "PvyOrvMDzKCJ"
      },
      "source": [
        "참고 https://jimmy-ai.tistory.com/166"
      ]
    },
    {
      "cell_type": "code",
      "execution_count": null,
      "metadata": {
        "id": "mPXtmTR8zKCJ"
      },
      "outputs": [],
      "source": [
        "# 모델 저장 변수 이름.save_pretrained(원하는 디렉토리) 형태\n",
        "tokenizer.save_pretrained('tokenizer.pt') # 파이토치 기반 모델\n",
        "model.save_pretrained('model.pt') # 파이토치 기반 모델"
      ]
    },
    {
      "cell_type": "code",
      "execution_count": null,
      "metadata": {
        "id": "Y1kpBsc-zKCJ"
      },
      "outputs": [],
      "source": [
        "# 모델 클래스 이름.from_pretrained(저장된 디렉토리) 형태\n",
        "tokenizer.save_pretrained('tokenizer.pt')\n",
        "model = BertForMaskedLM.from_pretrained('model.pt')"
      ]
    },
    {
      "cell_type": "markdown",
      "metadata": {
        "id": "MPyk1L2tzKCJ"
      },
      "source": [
        "# 불러오기"
      ]
    },
    {
      "cell_type": "code",
      "execution_count": null,
      "metadata": {
        "id": "NjHTukZNzKCJ",
        "outputId": "bbe3be80-87df-4808-b362-26af9873da94"
      },
      "outputs": [
        {
          "name": "stderr",
          "output_type": "stream",
          "text": [
            "You passed along `num_labels=3` with an incompatible id to label map: {'0': 'NEGATIVE', '1': 'POSITIVE'}. The number of labels wil be overwritten to 2.\n"
          ]
        }
      ],
      "source": [
        "# 모델 클래스 이름.from_pretrained(저장된 디렉토리) 형태\n",
        "from transformers import PreTrainedTokenizerFast, BartForConditionalGeneration\n",
        "tokenizer = PreTrainedTokenizerFast.from_pretrained(\"tokenizer.pt\")\n",
        "model = BartForConditionalGeneration.from_pretrained(\"model.pt\")"
      ]
    },
    {
      "cell_type": "code",
      "execution_count": null,
      "metadata": {
        "id": "7UcG_H7LzKCJ"
      },
      "outputs": [],
      "source": [
        "import pandas as pd\n",
        "\n",
        "# CSV 파일을 DataFrame으로 읽어오기\n",
        "news_text = pd.read_csv(\"인천서구_final.csv\")"
      ]
    },
    {
      "cell_type": "code",
      "execution_count": null,
      "metadata": {
        "id": "q1T-QWUwzKCK",
        "outputId": "aad249e3-e3dc-4487-9362-53d73a18202d"
      },
      "outputs": [
        {
          "name": "stderr",
          "output_type": "stream",
          "text": [
            "Truncation was not explicitly activated but `max_length` is provided a specific value, please use `truncation=True` to explicitly truncate examples to max length. Defaulting to 'longest_first' truncation strategy. If you encode pairs of sequences (GLUE-style) with the tokenizer you can select this strategy more precisely by providing a specific strategy to `truncation`.\n"
          ]
        },
        {
          "name": "stdout",
          "output_type": "stream",
          "text": [
            "전국부동산 매매가격이 하락세를 멈췄지만 3주 연속 제자리걸음을 이어가고 있고 서울은 아파트 매매.전세가격 모두 8주 연속 오르며 홀로 고공행진을 이어가는 반면 지방은 하락세가 이어지며 양극화가 심화되고 있는 가운데 한국부동산원은기준금리 안정세와 규제완화에 힘입어 수도권 부동산 시장은 기지개를 켜고 있지만 지방은 하락세가 이어지며 좀처럼 분위기 반전이 나타나지 않고 있다고 전했다.\n"
          ]
        }
      ],
      "source": [
        "news_text = news_text['content'][0]\n",
        "news_text\n",
        "\n",
        "input_ids = tokenizer.encode(news_text, return_tensors=\"pt\", max_length=1024)\n",
        "\n",
        "input_ids\n",
        "\n",
        "summary_text_ids = model.generate(\n",
        "    input_ids=input_ids,\n",
        "    bos_token_id = model.config.bos_token_id,\n",
        "    eos_token_id = model.config.eos_token_id,\n",
        "    length_penalty=2.0,\n",
        "    max_length=1000,\n",
        "    min_length=32,\n",
        "    num_beams=4,\n",
        ")\n",
        "\n",
        "summary_text_ids[0]\n",
        "\n",
        "summary_text_ids\n",
        "\n",
        "print(tokenizer.decode(summary_text_ids[0], skip_special_tokens=True))"
      ]
    },
    {
      "cell_type": "code",
      "execution_count": null,
      "metadata": {
        "id": "e6CjcaSTzKCK"
      },
      "outputs": [],
      "source": []
    }
  ],
  "metadata": {
    "colab": {
      "provenance": []
    },
    "kernelspec": {
      "display_name": "Python 3",
      "name": "python3"
    },
    "language_info": {
      "codemirror_mode": {
        "name": "ipython",
        "version": 3
      },
      "file_extension": ".py",
      "mimetype": "text/x-python",
      "name": "python",
      "nbconvert_exporter": "python",
      "pygments_lexer": "ipython3",
      "version": "3.7.4"
    }
  },
  "nbformat": 4,
  "nbformat_minor": 0
}