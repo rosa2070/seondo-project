{
 "cells": [
  {
   "cell_type": "code",
   "execution_count": 1,
   "metadata": {},
   "outputs": [
    {
     "data": {
      "text/html": [
       "<div>\n",
       "<style scoped>\n",
       "    .dataframe tbody tr th:only-of-type {\n",
       "        vertical-align: middle;\n",
       "    }\n",
       "\n",
       "    .dataframe tbody tr th {\n",
       "        vertical-align: top;\n",
       "    }\n",
       "\n",
       "    .dataframe thead th {\n",
       "        text-align: right;\n",
       "    }\n",
       "</style>\n",
       "<table border=\"1\" class=\"dataframe\">\n",
       "  <thead>\n",
       "    <tr style=\"text-align: right;\">\n",
       "      <th></th>\n",
       "      <th>Title</th>\n",
       "      <th>Date</th>\n",
       "      <th>Content</th>\n",
       "      <th>Link</th>\n",
       "    </tr>\n",
       "  </thead>\n",
       "  <tbody>\n",
       "    <tr>\n",
       "      <th>0</th>\n",
       "      <td>매매도 전세도 수도권만 올라…지방은 하락 계속</td>\n",
       "      <td>2023-07-13 14:02:00</td>\n",
       "      <td>전국 아파트값 3주 연속 보합…서울은 8주 연속 상승\\n지방은 낙폭 못 줄이고 하락...</td>\n",
       "      <td>https://n.news.naver.com/mnews/article/079/000...</td>\n",
       "    </tr>\n",
       "    <tr>\n",
       "      <th>1</th>\n",
       "      <td>‘호반써밋파크에디션’, 18일 1순위 청약 접수</td>\n",
       "      <td>2023-07-13 14:01:00</td>\n",
       "      <td>인천 연희공원 내 지하2층 ~지상34층\\n전용84~99㎡ 총 1370가구 규모\\n호...</td>\n",
       "      <td>https://n.news.naver.com/mnews/article/277/000...</td>\n",
       "    </tr>\n",
       "    <tr>\n",
       "      <th>2</th>\n",
       "      <td>전국 아파트값 3주 연속 '보합'…수도권↑·지방↓</td>\n",
       "      <td>2023-07-13 14:00:00</td>\n",
       "      <td>서울은 강남, 강북 모두 올라\\n전세도 수도권·서울만 상승…지방은 하락\\n서울 송파...</td>\n",
       "      <td>https://n.news.naver.com/mnews/article/421/000...</td>\n",
       "    </tr>\n",
       "    <tr>\n",
       "      <th>3</th>\n",
       "      <td>'호우주의보' 인천 도로 침수 잇따라…하천 3곳 등 통제(종합)</td>\n",
       "      <td>2023-07-13 13:55:00</td>\n",
       "      <td>시, 지대본 1단계 운영, 인력 투입 비상근무 가동\\n전국 대부분 지역에 장맛비가 ...</td>\n",
       "      <td>https://n.news.naver.com/mnews/article/421/000...</td>\n",
       "    </tr>\n",
       "    <tr>\n",
       "      <th>4</th>\n",
       "      <td>송도 72.5㎜…'호우주의보' 인천 도로 침수 잇따라</td>\n",
       "      <td>2023-07-13 13:46:00</td>\n",
       "      <td>13일 낮 12시10분께 중구 덕교동 덕교삼거리에 도로가 침수됐다는 신고가 접수돼 ...</td>\n",
       "      <td>https://n.news.naver.com/mnews/article/421/000...</td>\n",
       "    </tr>\n",
       "  </tbody>\n",
       "</table>\n",
       "</div>"
      ],
      "text/plain": [
       "                                 Title                 Date  \\\n",
       "0            매매도 전세도 수도권만 올라…지방은 하락 계속  2023-07-13 14:02:00   \n",
       "1           ‘호반써밋파크에디션’, 18일 1순위 청약 접수  2023-07-13 14:01:00   \n",
       "2          전국 아파트값 3주 연속 '보합'…수도권↑·지방↓  2023-07-13 14:00:00   \n",
       "3  '호우주의보' 인천 도로 침수 잇따라…하천 3곳 등 통제(종합)  2023-07-13 13:55:00   \n",
       "4        송도 72.5㎜…'호우주의보' 인천 도로 침수 잇따라  2023-07-13 13:46:00   \n",
       "\n",
       "                                             Content  \\\n",
       "0  전국 아파트값 3주 연속 보합…서울은 8주 연속 상승\\n지방은 낙폭 못 줄이고 하락...   \n",
       "1  인천 연희공원 내 지하2층 ~지상34층\\n전용84~99㎡ 총 1370가구 규모\\n호...   \n",
       "2  서울은 강남, 강북 모두 올라\\n전세도 수도권·서울만 상승…지방은 하락\\n서울 송파...   \n",
       "3  시, 지대본 1단계 운영, 인력 투입 비상근무 가동\\n전국 대부분 지역에 장맛비가 ...   \n",
       "4  13일 낮 12시10분께 중구 덕교동 덕교삼거리에 도로가 침수됐다는 신고가 접수돼 ...   \n",
       "\n",
       "                                                Link  \n",
       "0  https://n.news.naver.com/mnews/article/079/000...  \n",
       "1  https://n.news.naver.com/mnews/article/277/000...  \n",
       "2  https://n.news.naver.com/mnews/article/421/000...  \n",
       "3  https://n.news.naver.com/mnews/article/421/000...  \n",
       "4  https://n.news.naver.com/mnews/article/421/000...  "
      ]
     },
     "execution_count": 1,
     "metadata": {},
     "output_type": "execute_result"
    }
   ],
   "source": [
    "import pandas as pd\n",
    "df = pd.read_csv('/home/myproject/인천서구.csv')\n",
    "df.head()"
   ]
  },
  {
   "cell_type": "code",
   "execution_count": 2,
   "metadata": {},
   "outputs": [],
   "source": [
    "import MeCab\n",
    "from gensim.models import FastText\n",
    "from gensim.models.keyedvectors import KeyedVectors\n",
    "from collections import defaultdict\n",
    "from operator import itemgetter\n",
    "import pandas as pd\n",
    "\n",
    "# MeCab 형태소 분석기 초기화\n",
    "m = MeCab.Tagger()\n",
    "\n",
    "# 특정 컬럼의 텍스트 데이터 가져오기 (실제 컬럼 이름으로 대체)\n",
    "text_data = df['Content'].tolist()\n",
    "\n",
    "# 명사 추출을 위한 함수\n",
    "def extract_nouns(text):\n",
    "    parsed_result = m.parse(text)\n",
    "    lines = parsed_result.split('\\n')\n",
    "    nouns = []\n",
    "    for line in lines:\n",
    "        if '\\t' in line:\n",
    "            word, info = line.split('\\t')\n",
    "            pos_info = info.split(',')[0]\n",
    "            if pos_info == 'NNG' and len(word) > 1:  # 한 글자 명사 제거\n",
    "                nouns.append(word)\n",
    "    return nouns\n",
    "\n",
    "# 각 문장에 대해 명사만 추출하여 리스트로 저장\n",
    "nouns_list = [extract_nouns(sentence) for sentence in text_data]\n",
    "\n",
    "# FastText 모델 학습\n",
    "model = FastText(sentences=nouns_list, size=100, window=5, min_count=1, sg=1)\n",
    "\n",
    "# 학습된 모델 저장\n",
    "model.save('fasttext_model.bin')"
   ]
  },
  {
   "cell_type": "code",
   "execution_count": 3,
   "metadata": {},
   "outputs": [
    {
     "data": {
      "text/plain": [
       "[('서구', 0.9953876733779907),\n",
       " ('중구', 0.7615519165992737),\n",
       " ('영종', 0.7450915575027466)]"
      ]
     },
     "execution_count": 3,
     "metadata": {},
     "output_type": "execute_result"
    }
   ],
   "source": [
    "from gensim.models import FastText\n",
    "\n",
    "# FastText 모델 로드 (unsupervised)\n",
    "model_path = 'fasttext_model.bin'  # 사전학습된 FastText 모델 파일 경로\n",
    "fasttext_model = FastText.load(model_path)\n",
    "\n",
    "related_words = fasttext_model.wv.most_similar('인천 서구', topn=3)\n",
    "\n",
    "related_words"
   ]
  },
  {
   "cell_type": "code",
   "execution_count": null,
   "metadata": {},
   "outputs": [],
   "source": []
  }
 ],
 "metadata": {
  "kernelspec": {
   "display_name": "base",
   "language": "python",
   "name": "python3"
  },
  "language_info": {
   "codemirror_mode": {
    "name": "ipython",
    "version": 3
   },
   "file_extension": ".py",
   "mimetype": "text/x-python",
   "name": "python",
   "nbconvert_exporter": "python",
   "pygments_lexer": "ipython3",
   "version": "3.7.4"
  },
  "orig_nbformat": 4
 },
 "nbformat": 4,
 "nbformat_minor": 2
}
